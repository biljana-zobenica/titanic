{
 "cells": [
  {
   "cell_type": "markdown",
   "metadata": {},
   "source": [
    "# Building Predictive Models"
   ]
  },
  {
   "cell_type": "code",
   "execution_count": 1,
   "metadata": {},
   "outputs": [],
   "source": [
    "import pandas as pd\n",
    "import os\n",
    "import numpy as np"
   ]
  },
  {
   "cell_type": "markdown",
   "metadata": {},
   "source": [
    "## Import Data"
   ]
  },
  {
   "cell_type": "code",
   "execution_count": 2,
   "metadata": {},
   "outputs": [],
   "source": [
    "# set the path of the processed data\n",
    "processed_data_path = os.path.join(os.path.pardir, 'data','processed')\n",
    "train_file_path = os.path.join(processed_data_path, 'train.csv')\n",
    "test_file_path = os.path.join(processed_data_path, 'test.csv')"
   ]
  },
  {
   "cell_type": "code",
   "execution_count": 3,
   "metadata": {},
   "outputs": [],
   "source": [
    "train_df = pd.read_csv(train_file_path, index_col='PassengerId')\n",
    "test_df = pd.read_csv(test_file_path, index_col='PassengerId')"
   ]
  },
  {
   "cell_type": "code",
   "execution_count": 4,
   "metadata": {},
   "outputs": [
    {
     "name": "stdout",
     "output_type": "stream",
     "text": [
      "<class 'pandas.core.frame.DataFrame'>\n",
      "Int64Index: 891 entries, 1 to 891\n",
      "Data columns (total 33 columns):\n",
      " #   Column              Non-Null Count  Dtype  \n",
      "---  ------              --------------  -----  \n",
      " 0   Survived            891 non-null    int64  \n",
      " 1   Age                 891 non-null    float64\n",
      " 2   Fare                891 non-null    float64\n",
      " 3   FamilySize          891 non-null    int64  \n",
      " 4   IsMother            891 non-null    int64  \n",
      " 5   IsMale              891 non-null    int64  \n",
      " 6   Deck_A              891 non-null    int64  \n",
      " 7   Deck_B              891 non-null    int64  \n",
      " 8   Deck_C              891 non-null    int64  \n",
      " 9   Deck_D              891 non-null    int64  \n",
      " 10  Deck_E              891 non-null    int64  \n",
      " 11  Deck_F              891 non-null    int64  \n",
      " 12  Deck_G              891 non-null    int64  \n",
      " 13  Deck_Z              891 non-null    int64  \n",
      " 14  Pclass_1            891 non-null    int64  \n",
      " 15  Pclass_2            891 non-null    int64  \n",
      " 16  Pclass_3            891 non-null    int64  \n",
      " 17  Title_Lady          891 non-null    int64  \n",
      " 18  Title_Master        891 non-null    int64  \n",
      " 19  Title_Miss          891 non-null    int64  \n",
      " 20  Title_Mr            891 non-null    int64  \n",
      " 21  Title_Mrs           891 non-null    int64  \n",
      " 22  Title_Officer       891 non-null    int64  \n",
      " 23  Title_Sir           891 non-null    int64  \n",
      " 24  Fare_Bin_very_low   891 non-null    int64  \n",
      " 25  Fare_Bin_low        891 non-null    int64  \n",
      " 26  Fare_Bin_high       891 non-null    int64  \n",
      " 27  Fare_Bin_very_high  891 non-null    int64  \n",
      " 28  Embarked_C          891 non-null    int64  \n",
      " 29  Embarked_Q          891 non-null    int64  \n",
      " 30  Embarked_S          891 non-null    int64  \n",
      " 31  AgeState_Adult      891 non-null    int64  \n",
      " 32  AgeState_Child      891 non-null    int64  \n",
      "dtypes: float64(2), int64(31)\n",
      "memory usage: 236.7 KB\n"
     ]
    }
   ],
   "source": [
    "train_df.info()\n",
    "# in train data frame, we have 891 rows and 33 features; out of these 33 features, 'Survived' is the output label,\n",
    "# while, the rest of 32 features will be used to build the model;"
   ]
  },
  {
   "cell_type": "code",
   "execution_count": 5,
   "metadata": {},
   "outputs": [
    {
     "name": "stdout",
     "output_type": "stream",
     "text": [
      "<class 'pandas.core.frame.DataFrame'>\n",
      "Int64Index: 418 entries, 892 to 1309\n",
      "Data columns (total 32 columns):\n",
      " #   Column              Non-Null Count  Dtype  \n",
      "---  ------              --------------  -----  \n",
      " 0   Age                 418 non-null    float64\n",
      " 1   Fare                418 non-null    float64\n",
      " 2   FamilySize          418 non-null    int64  \n",
      " 3   IsMother            418 non-null    int64  \n",
      " 4   IsMale              418 non-null    int64  \n",
      " 5   Deck_A              418 non-null    int64  \n",
      " 6   Deck_B              418 non-null    int64  \n",
      " 7   Deck_C              418 non-null    int64  \n",
      " 8   Deck_D              418 non-null    int64  \n",
      " 9   Deck_E              418 non-null    int64  \n",
      " 10  Deck_F              418 non-null    int64  \n",
      " 11  Deck_G              418 non-null    int64  \n",
      " 12  Deck_Z              418 non-null    int64  \n",
      " 13  Pclass_1            418 non-null    int64  \n",
      " 14  Pclass_2            418 non-null    int64  \n",
      " 15  Pclass_3            418 non-null    int64  \n",
      " 16  Title_Lady          418 non-null    int64  \n",
      " 17  Title_Master        418 non-null    int64  \n",
      " 18  Title_Miss          418 non-null    int64  \n",
      " 19  Title_Mr            418 non-null    int64  \n",
      " 20  Title_Mrs           418 non-null    int64  \n",
      " 21  Title_Officer       418 non-null    int64  \n",
      " 22  Title_Sir           418 non-null    int64  \n",
      " 23  Fare_Bin_very_low   418 non-null    int64  \n",
      " 24  Fare_Bin_low        418 non-null    int64  \n",
      " 25  Fare_Bin_high       418 non-null    int64  \n",
      " 26  Fare_Bin_very_high  418 non-null    int64  \n",
      " 27  Embarked_C          418 non-null    int64  \n",
      " 28  Embarked_Q          418 non-null    int64  \n",
      " 29  Embarked_S          418 non-null    int64  \n",
      " 30  AgeState_Adult      418 non-null    int64  \n",
      " 31  AgeState_Child      418 non-null    int64  \n",
      "dtypes: float64(2), int64(30)\n",
      "memory usage: 107.8 KB\n"
     ]
    }
   ],
   "source": [
    "test_df.info()\n",
    "# in test data frame, we have 418 rows and 32 features; we need to predict the survival for these passengers;"
   ]
  },
  {
   "cell_type": "markdown",
   "metadata": {},
   "source": []
  },
  {
   "cell_type": "code",
   "execution_count": null,
   "metadata": {},
   "outputs": [],
   "source": []
  },
  {
   "cell_type": "code",
   "execution_count": null,
   "metadata": {},
   "outputs": [],
   "source": []
  },
  {
   "cell_type": "code",
   "execution_count": null,
   "metadata": {},
   "outputs": [],
   "source": []
  }
 ],
 "metadata": {
  "kernelspec": {
   "display_name": "Python 3",
   "language": "python",
   "name": "python3"
  },
  "language_info": {
   "codemirror_mode": {
    "name": "ipython",
    "version": 3
   },
   "file_extension": ".py",
   "mimetype": "text/x-python",
   "name": "python",
   "nbconvert_exporter": "python",
   "pygments_lexer": "ipython3",
   "version": "3.8.5"
  }
 },
 "nbformat": 4,
 "nbformat_minor": 4
}
